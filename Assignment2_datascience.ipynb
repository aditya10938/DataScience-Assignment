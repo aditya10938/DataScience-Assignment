{
  "nbformat": 4,
  "nbformat_minor": 0,
  "metadata": {
    "colab": {
      "name": "Assignment2 datascience.ipynb",
      "provenance": [],
      "authorship_tag": "ABX9TyPmFj23WaUuaoSZOUSwz7nu",
      "include_colab_link": true
    },
    "kernelspec": {
      "name": "python3",
      "display_name": "Python 3"
    }
  },
  "cells": [
    {
      "cell_type": "markdown",
      "metadata": {
        "id": "view-in-github",
        "colab_type": "text"
      },
      "source": [
        "<a href=\"https://colab.research.google.com/github/aditya10938/DataScience-Assignment/blob/main/Assignment2_datascience.ipynb\" target=\"_parent\"><img src=\"https://colab.research.google.com/assets/colab-badge.svg\" alt=\"Open In Colab\"/></a>"
      ]
    },
    {
      "cell_type": "markdown",
      "metadata": {
        "id": "LKT1ccr1F1VX"
      },
      "source": [
        "##Create an empty list. Accept 10 numbers from the user and append to it the list if it is an even number."
      ]
    },
    {
      "cell_type": "code",
      "metadata": {
        "id": "9hLi99juF7ux",
        "outputId": "f23bb7a8-e615-467a-d620-da154730f437",
        "colab": {
          "base_uri": "https://localhost:8080/"
        }
      },
      "source": [
        "a=[]\n",
        "for i in range(10):\n",
        "    b = int(input())\n",
        "    if b % 2 == 0:a.append(b)\n",
        "print(a)"
      ],
      "execution_count": 1,
      "outputs": [
        {
          "output_type": "stream",
          "text": [
            "1\n",
            "2\n",
            "3\n",
            "11\n",
            "12\n",
            "55\n",
            "18\n",
            "6\n",
            "65\n",
            "55\n",
            "[2, 12, 18, 6]\n"
          ],
          "name": "stdout"
        }
      ]
    },
    {
      "cell_type": "markdown",
      "metadata": {
        "id": "i3wDpQbiImtg"
      },
      "source": [
        "##Create a notebook on LIST COMPREHENSION. This exercise is to put you in a Self learning mode"
      ]
    },
    {
      "cell_type": "code",
      "metadata": {
        "id": "99ee5e1RIkSR",
        "outputId": "0212220a-14d6-42f8-a058-3e4a9af5caea",
        "colab": {
          "base_uri": "https://localhost:8080/"
        }
      },
      "source": [
        "a=[i for i in range(1,10+1) if i % 2 == 0]\n",
        "print(a)"
      ],
      "execution_count": 3,
      "outputs": [
        {
          "output_type": "stream",
          "text": [
            "[2, 4, 6, 8, 10]\n"
          ],
          "name": "stdout"
        }
      ]
    },
    {
      "cell_type": "markdown",
      "metadata": {
        "id": "XebMxgE_JLIB"
      },
      "source": [
        "##You have seen in the videos how powerful dictionary data structure is. In this assignment, given a number n, you have to write a program that generates a dictionary d which contains (i, i*i), where i is from 1 to n (both included). Then you have to just print this dictionary d. Example: Input: 4 will give output as {1: 1, 2: 4, 3: 9, 4: 16} Input Format: Take the number n in a single line. Output Format: Print the dictionary d in a single line. Example: Input: 8 Output: {1: 1, 2: 4, 3: 9, 4: 16, 5: 25, 6: 36, 7: 49, 8: 64}"
      ]
    },
    {
      "cell_type": "code",
      "metadata": {
        "id": "WpgmquNPJAaS",
        "outputId": "aae3a0df-1e3f-4117-8297-147fde86380f",
        "colab": {
          "base_uri": "https://localhost:8080/"
        }
      },
      "source": [
        "b={}\n",
        "for i in range(1,int(input())+1):b[i]=i*i\n",
        "print(b)"
      ],
      "execution_count": 4,
      "outputs": [
        {
          "output_type": "stream",
          "text": [
            "8\n",
            "{1: 1, 2: 4, 3: 9, 4: 16, 5: 25, 6: 36, 7: 49, 8: 64}\n"
          ],
          "name": "stdout"
        }
      ]
    },
    {
      "cell_type": "markdown",
      "metadata": {
        "id": "IbNLRxS_JtZZ"
      },
      "source": [
        "##There is a robot which wants to go the charging point to charge itself. The robot moves in a 2-D plane from the original point (0,0). The robot can move toward UP, DOWN, LEFT and RIGHT with given steps. The trace of robot movement is shown as the following: UP 5 DOWN 3 LEFT 3 RIGHT 2 Then, the output of the program should be: 2 The numbers after the direction are steps. Write a program to compute the distance between the current position after a sequence of movement and original point. If the distance is a float, then just print the nearest integer (use round() function for that and then convert it into an integer). Input Format: The first line of the input contains a number n which implies the number of directions to be given. The next n lines contain the direction and the step separated by a space. Output Format: Print the distance from the original position to the current position. Example: Input: 4 UP 5 DOWN 3 LEFT 3 RIGHT 2 Output: 2"
      ]
    },
    {
      "cell_type": "code",
      "metadata": {
        "id": "Tq5UqKIdJlEo",
        "outputId": "ecdde237-0c79-4a47-bcea-70b67227bc99",
        "colab": {
          "base_uri": "https://localhost:8080/"
        }
      },
      "source": [
        "import math\n",
        "(x,y) = (0,0)\n",
        "for i in range(int(input())):\n",
        "    a,b = input().split()\n",
        "    a,b = str(a),int(b)\n",
        "    if a == \"DOWN\":x,y=x,y-b\n",
        "    elif a == \"LEFT\":x,y=x-b,y\n",
        "    elif a == \"RIGHT\":x,y=x+b,y\n",
        "    else:x,y=x,y+b\n",
        "print(round(math.sqrt((x**2)+(y**2))))"
      ],
      "execution_count": 8,
      "outputs": [
        {
          "output_type": "stream",
          "text": [
            "4\n",
            "UP 5\n",
            "DOWN 3\n",
            "LEFT 3\n",
            "RIGHT 2\n",
            "2\n"
          ],
          "name": "stdout"
        }
      ]
    },
    {
      "cell_type": "code",
      "metadata": {
        "id": "OWc6krfvKCoW"
      },
      "source": [
        ""
      ],
      "execution_count": null,
      "outputs": []
    }
  ]
}