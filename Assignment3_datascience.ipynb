{
  "nbformat": 4,
  "nbformat_minor": 0,
  "metadata": {
    "colab": {
      "name": "Assignment3 datascience.ipynb",
      "provenance": [],
      "collapsed_sections": [],
      "authorship_tag": "ABX9TyPPXkURdCn3ovVarpvxnGMA",
      "include_colab_link": true
    },
    "kernelspec": {
      "name": "python3",
      "display_name": "Python 3"
    }
  },
  "cells": [
    {
      "cell_type": "markdown",
      "metadata": {
        "id": "view-in-github",
        "colab_type": "text"
      },
      "source": [
        "<a href=\"https://colab.research.google.com/github/aditya10938/DataScience-Assignment/blob/main/Assignment3_datascience.ipynb\" target=\"_parent\"><img src=\"https://colab.research.google.com/assets/colab-badge.svg\" alt=\"Open In Colab\"/></a>"
      ]
    },
    {
      "cell_type": "markdown",
      "metadata": {
        "id": "UkMWRzbkK--5"
      },
      "source": [
        "##Create a numpy array starting from 2 till 50 with a stepsize of 3."
      ]
    },
    {
      "cell_type": "code",
      "metadata": {
        "id": "m_Zm37jFK7O5",
        "outputId": "4bc47008-f05c-4e98-f4ef-ae13d7cab2ae",
        "colab": {
          "base_uri": "https://localhost:8080/"
        }
      },
      "source": [
        "import numpy\n",
        "array = numpy.arange(2,50,3)\n",
        "print(array)"
      ],
      "execution_count": 2,
      "outputs": [
        {
          "output_type": "stream",
          "text": [
            "[ 2  5  8 11 14 17 20 23 26 29 32 35 38 41 44 47]\n"
          ],
          "name": "stdout"
        }
      ]
    },
    {
      "cell_type": "markdown",
      "metadata": {
        "id": "h5RQMlm2L-gO"
      },
      "source": [
        "##Accept two lists of 5 elements each from the user. Convert them to numpy arrays. Concatenate these arrays and print it. Also sort these arrays and print it."
      ]
    },
    {
      "cell_type": "code",
      "metadata": {
        "id": "URtZWBaYL0ti",
        "outputId": "44d11942-4c9f-48c9-f10f-e00b0e277882",
        "colab": {
          "base_uri": "https://localhost:8080/"
        }
      },
      "source": [
        "a=numpy.array([int(input()) for i in range(5)])\n",
        "b=numpy.array([int(input()) for i in range(5)])\n",
        "print(numpy.sort(numpy.concatenate((a,b))))"
      ],
      "execution_count": 4,
      "outputs": [
        {
          "output_type": "stream",
          "text": [
            "1\n",
            "2\n",
            "3\n",
            "4\n",
            "5\n",
            "6\n",
            "7\n",
            "8\n",
            "9\n",
            "10\n",
            "[ 1  2  3  4  5  6  7  8  9 10]\n"
          ],
          "name": "stdout"
        }
      ]
    },
    {
      "cell_type": "markdown",
      "metadata": {
        "id": "sP2SqYP7MbFQ"
      },
      "source": [
        "##Write a code snippet to find the dimensions of a ndarray and its size"
      ]
    },
    {
      "cell_type": "code",
      "metadata": {
        "id": "NhiHjLbLMK2M",
        "outputId": "8cd50248-847e-4c7c-f601-c0c2caba4697",
        "colab": {
          "base_uri": "https://localhost:8080/"
        }
      },
      "source": [
        "array=numpy.array([1,2,3,4,5,6,7,8])\n",
        "print(array.ndim)\n",
        "print(array.size)"
      ],
      "execution_count": 6,
      "outputs": [
        {
          "output_type": "stream",
          "text": [
            "1\n",
            "8\n"
          ],
          "name": "stdout"
        }
      ]
    },
    {
      "cell_type": "markdown",
      "metadata": {
        "id": "NHS6iQbUNHjC"
      },
      "source": [
        "##How to convert a 1D array into a 2D array? Demonstrate with the help of a code snippet Hint: np.newaxis, np.expand_dims"
      ]
    },
    {
      "cell_type": "code",
      "metadata": {
        "id": "YwFcYe0NM5Pz",
        "outputId": "6cf95dad-5265-44be-bba1-cc4c8ed2dfe7",
        "colab": {
          "base_uri": "https://localhost:8080/"
        }
      },
      "source": [
        "array= numpy.array([1,2,3,4,5,6])\n",
        "t=array\n",
        "t=t[:, numpy.newaxis]\n",
        "print(t)\n",
        "print(array)\n",
        "t=array\n",
        "print(t)"
      ],
      "execution_count": 9,
      "outputs": [
        {
          "output_type": "stream",
          "text": [
            "[[1]\n",
            " [2]\n",
            " [3]\n",
            " [4]\n",
            " [5]\n",
            " [6]]\n",
            "[1 2 3 4 5 6]\n",
            "[1 2 3 4 5 6]\n"
          ],
          "name": "stdout"
        }
      ]
    },
    {
      "cell_type": "markdown",
      "metadata": {
        "id": "7A28OJflN9NX"
      },
      "source": [
        "##Consider two square numpy arrays. Stack them vertically and horizontally. Hint: Use vstack(), hstack()\n",
        "\n"
      ]
    },
    {
      "cell_type": "code",
      "metadata": {
        "id": "wzL1Ys0eNfSe",
        "outputId": "7e1f6ab5-3812-4eb9-a150-4668698a76f5",
        "colab": {
          "base_uri": "https://localhost:8080/"
        }
      },
      "source": [
        "a=numpy.array([[1,2,3],[4,5,6],[7,8,9]])\n",
        "print(numpy.vstack(a))\n",
        "print(numpy.hstack(a))"
      ],
      "execution_count": 11,
      "outputs": [
        {
          "output_type": "stream",
          "text": [
            "[[1 2 3]\n",
            " [4 5 6]\n",
            " [7 8 9]]\n",
            "[1 2 3 4 5 6 7 8 9]\n"
          ],
          "name": "stdout"
        }
      ]
    },
    {
      "cell_type": "markdown",
      "metadata": {
        "id": "55XSlu1aOoLV"
      },
      "source": [
        "##How to get unique items and counts of unique items?"
      ]
    },
    {
      "cell_type": "code",
      "metadata": {
        "id": "S8s2l9baOCns",
        "outputId": "d76089f6-5c20-4f46-ee1d-a9e0a4764092",
        "colab": {
          "base_uri": "https://localhost:8080/"
        }
      },
      "source": [
        "a=numpy.arange(1,10)\n",
        "print(numpy.unique(a,return_counts=True))"
      ],
      "execution_count": 12,
      "outputs": [
        {
          "output_type": "stream",
          "text": [
            "(array([1, 2, 3, 4, 5, 6, 7, 8, 9]), array([1, 1, 1, 1, 1, 1, 1, 1, 1]))\n"
          ],
          "name": "stdout"
        }
      ]
    },
    {
      "cell_type": "code",
      "metadata": {
        "id": "dlwHqmwpOzYH"
      },
      "source": [
        ""
      ],
      "execution_count": null,
      "outputs": []
    }
  ]
}