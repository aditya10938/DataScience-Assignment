{
  "nbformat": 4,
  "nbformat_minor": 0,
  "metadata": {
    "colab": {
      "name": "Assignment1 datascience.ipynb",
      "provenance": [],
      "collapsed_sections": [],
      "authorship_tag": "ABX9TyMWNz3L0Ihz3oLn2lNpyrG4",
      "include_colab_link": true
    },
    "kernelspec": {
      "name": "python3",
      "display_name": "Python 3"
    }
  },
  "cells": [
    {
      "cell_type": "markdown",
      "metadata": {
        "id": "view-in-github",
        "colab_type": "text"
      },
      "source": [
        "<a href=\"https://colab.research.google.com/github/aditya10938/DataScience-Assignment/blob/main/Assignment1_datascience.ipynb\" target=\"_parent\"><img src=\"https://colab.research.google.com/assets/colab-badge.svg\" alt=\"Open In Colab\"/></a>"
      ]
    },
    {
      "cell_type": "markdown",
      "metadata": {
        "id": "othBDGmZbBXv"
      },
      "source": [
        "##Given the following jumbled word, OBANWRI guess the correct English word.\n",
        "\n",
        "A. RANIBOW\n",
        "\n",
        "B. RAINBOW\n",
        "\n",
        "C. BOWRANI\n",
        "\n",
        "D. ROBWANI"
      ]
    },
    {
      "cell_type": "code",
      "metadata": {
        "id": "utWMHJhTfQgu",
        "outputId": "1fe28332-5114-4481-a646-f2387107810f",
        "colab": {
          "base_uri": "https://localhost:8080/"
        }
      },
      "source": [
        "Your_Option_Are = [\"RANIBOW\", \"RAINBOW\", \"BOWRANI\", \"ROBWANI\"]\n",
        "Correct_Option = input(\"Enter your answer \")\n",
        "\n",
        "if Correct_Option == \"RAINBOW\":\n",
        "  print(\"Correct\")\n",
        "else:\n",
        "  print(\"Incorrect\")\n"
      ],
      "execution_count": 4,
      "outputs": [
        {
          "output_type": "stream",
          "text": [
            "Enter your answer RAINBOW\n",
            "Correct\n"
          ],
          "name": "stdout"
        }
      ]
    },
    {
      "cell_type": "markdown",
      "metadata": {
        "id": "2-6ICuBGDOUn"
      },
      "source": [
        "#Write a program which prints “LETS UPGRADE”. (Please note that you have to print in ALL CAPS as given)"
      ]
    },
    {
      "cell_type": "code",
      "metadata": {
        "id": "f9szVspNDU3x",
        "outputId": "89f2c1fe-24de-423a-f7fa-c797bab8327b",
        "colab": {
          "base_uri": "https://localhost:8080/"
        }
      },
      "source": [
        "LU = \"letsupgrade\"\n",
        "print(LU.upper())"
      ],
      "execution_count": 5,
      "outputs": [
        {
          "output_type": "stream",
          "text": [
            "LETSUPGRADE\n"
          ],
          "name": "stdout"
        }
      ]
    },
    {
      "cell_type": "markdown",
      "metadata": {
        "id": "XnZoExwYDs1m"
      },
      "source": [
        "##Write a program that takes cost price and selling price as input and displays whether the transaction is a Profit or a Loss or Neither.\n"
      ]
    },
    {
      "cell_type": "code",
      "metadata": {
        "id": "5dY2XdiVDyLw",
        "outputId": "a4c3044b-8ebf-4f76-9dc8-d74da5af277c",
        "colab": {
          "base_uri": "https://localhost:8080/"
        }
      },
      "source": [
        "costprice = int(input( ))\n",
        "sellingprice = int(input( ))\n",
        "if costprice < sellingprice:\n",
        "    print(\"Profit\")\n",
        "elif costprice>sellingprice:\n",
        "    print(\"Loss\")\n",
        "else:\n",
        "    print(\"Neither\")"
      ],
      "execution_count": 9,
      "outputs": [
        {
          "output_type": "stream",
          "text": [
            "80\n",
            "80\n",
            "Neither\n"
          ],
          "name": "stdout"
        }
      ]
    },
    {
      "cell_type": "markdown",
      "metadata": {
        "id": "t8zOxrCCEhMP"
      },
      "source": [
        "##Write a program that takes cost price and selling price as input and displays whether the transaction is a Profit or a Loss or Neither. INPUT FORMAT The first line contains the cost price. The second line contains the selling price. OUTPUT FORMAT Print \"Profit\" if the transaction is a profit or \"Loss\" if it is a loss. If it is neither profit nor loss, print \"Neither\". (You must not have quotes in your output) NOTE: Please stick to the input and output format. Don't add anything extra like 'Enter cost price', 'Enter selling price', etc."
      ]
    },
    {
      "cell_type": "code",
      "metadata": {
        "id": "JYPhcWCKE4bp",
        "outputId": "226d4888-914d-4575-8b0a-88870c74b2cf",
        "colab": {
          "base_uri": "https://localhost:8080/"
        }
      },
      "source": [
        "costprice = int(input( ))\n",
        "sellingprice = int(input( ))\n",
        "if costprice < sellingprice:\n",
        "    print(\"Profit\")\n",
        "elif costprice>sellingprice:\n",
        "    print(\"Loss\")\n",
        "else:\n",
        "    print(\"Neither\")"
      ],
      "execution_count": 10,
      "outputs": [
        {
          "output_type": "stream",
          "text": [
            "10\n",
            "5\n",
            "Loss\n"
          ],
          "name": "stdout"
        }
      ]
    },
    {
      "cell_type": "markdown",
      "metadata": {
        "id": "NhABG4h3FDxb"
      },
      "source": [
        "##Write a program that takes an amount in Indian Rupees as input. You need to find its equivalent in Euro and display it. Assume 1 Euro equals Rs. 80. Please note that you are expected to stick to the given input and output format as in sample test cases. Please don't add any extra lines such as 'Enter a number', etc. Your program should take only one number as input and display the output."
      ]
    },
    {
      "cell_type": "code",
      "metadata": {
        "id": "g1VdwQfCE-UL",
        "outputId": "28cdd591-9387-4016-a36b-0eeca60e445e",
        "colab": {
          "base_uri": "https://localhost:8080/"
        }
      },
      "source": [
        "INR=int(input())\n",
        "print(INR*80)"
      ],
      "execution_count": 13,
      "outputs": [
        {
          "output_type": "stream",
          "text": [
            "5\n",
            "400\n"
          ],
          "name": "stdout"
        }
      ]
    },
    {
      "cell_type": "code",
      "metadata": {
        "id": "38YltwPcFTS8"
      },
      "source": [
        ""
      ],
      "execution_count": null,
      "outputs": []
    }
  ]
}